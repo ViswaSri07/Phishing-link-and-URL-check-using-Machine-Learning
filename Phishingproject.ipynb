{
 "cells": [
  {
   "cell_type": "markdown",
   "id": "4885bf34-3600-4bd8-aad2-61af0e15a28b",
   "metadata": {},
   "source": [
    "# Phishing Website Detection Using Machine Learning\n",
    "\n",
    "The Internet has become an indispensable part of\n",
    "our life, However, It also has provided opportunities to anonymously perform malicious activities like Phishing. Phishers try to deceive their victims by social engineering or creating mockup websites to steal information such as account ID, username, password from individuals and organizations. Although many methods have been proposed to detect phishing websites, Phishers have evolved their methods to escape from these detection methods. One of the most successful methods for detecting these malicious activities is Machine Learning. This is because most Phishing attacks have some common characteristics which can be identified by machine learning methods."
   ]
  },
  {
   "cell_type": "markdown",
   "id": "4b495db2-99a7-43fc-89d0-797772ae0a9a",
   "metadata": {},
   "source": [
    "The steps demonstrated in this notebook are:\n",
    "\n",
    "1. Loading the data\n",
    "2. Familiarizing with data & EDA\n",
    "3. Visualizing the data\n",
    "4. Splitting the data\n",
    "5. Training the data\n",
    "6. Comparision of Model\n",
    "7. Conclusion"
   ]
  },
  {
   "cell_type": "code",
   "execution_count": null,
   "id": "d078de17",
   "metadata": {},
   "outputs": [],
   "source": [
    "!pip3 install -r requirements.txt\n",
    "!pip3 install pandas matplotlib seaborn"
   ]
  },
  {
   "cell_type": "code",
   "execution_count": null,
   "id": "b0d85a25-2b3a-46cf-b477-f5f2e01d3c10",
   "metadata": {},
   "outputs": [],
   "source": [
    "#importing required libraries\n",
    "\n",
    "import numpy as np\n",
    "import pandas as pd\n",
    "import matplotlib.pyplot as plt\n",
    "%matplotlib inline\n",
    "import seaborn as sns\n",
    "from sklearn import metrics \n",
    "import warnings\n",
    "warnings.filterwarnings('ignore')"
   ]
  },
  {
   "cell_type": "markdown",
   "id": "8bc8666b-391d-46a8-8933-059aee039f81",
   "metadata": {},
   "source": [
    "## 1. Loading Data:\n",
    "The dataset is borrowed from Kaggle, https://www.kaggle.com/eswarchandt/phishing-website-detector \n",
    "\n",
    "A collection of website URLs for 11000+ websites. Each sample has 30 website parameters and a class label identifying it as a phishing website or not (1 or -1).\n",
    "\n",
    "The overview of this dataset is, it has 11054 samples with 32 features. Download the dataset from the link provided."
   ]
  },
  {
   "cell_type": "code",
   "execution_count": null,
   "id": "a22f067d-57eb-4527-a655-f59969c7d899",
   "metadata": {},
   "outputs": [],
   "source": [
    "#Loading data into dataframe\n",
    "\n",
    "data = pd.read_csv(\"./DataFiles/phishing.csv\")\n",
    "data.head()"
   ]
  },
  {
   "cell_type": "markdown",
   "id": "59638e38-7438-4fcf-aaa1-081b1c847a36",
   "metadata": {},
   "source": [
    "## 2. Familiarizing with Data & EDA:\n",
    "In this step, few dataframe methods are used to look into the data and its features."
   ]
  },
  {
   "cell_type": "code",
   "execution_count": null,
   "id": "c77277b3-2c95-495f-9728-e0cf9274b0c2",
   "metadata": {},
   "outputs": [],
   "source": [
    "#Shape of dataframe\n",
    "\n",
    "data.shape"
   ]
  },
  {
   "cell_type": "code",
   "execution_count": null,
   "id": "b9a5aeea-68bc-4365-b797-3be941f6e28a",
   "metadata": {},
   "outputs": [],
   "source": [
    "#Listing the features of the dataset\n",
    "\n",
    "data.columns"
   ]
  },
  {
   "cell_type": "code",
   "execution_count": null,
   "id": "15f86d1f-9fac-423c-87a9-ef8744e5063c",
   "metadata": {},
   "outputs": [],
   "source": [
    "data.info()\n"
   ]
  },
  {
   "cell_type": "code",
   "execution_count": null,
   "id": "627cc425-5dff-40b1-ac98-f7d2b1bdc8f6",
   "metadata": {},
   "outputs": [],
   "source": [
    "data.nunique()"
   ]
  },
  {
   "cell_type": "code",
   "execution_count": null,
   "id": "e477656b-0c5f-4f3d-aa78-dc17a6b371bb",
   "metadata": {},
   "outputs": [],
   "source": [
    "data = data.drop(['Index'],axis = 1)\n"
   ]
  },
  {
   "cell_type": "code",
   "execution_count": null,
   "id": "8f5cc313-4994-4ffb-8249-0bb36afe4528",
   "metadata": {},
   "outputs": [],
   "source": [
    "data.describe().T\n"
   ]
  },
  {
   "cell_type": "markdown",
   "id": "146a35d7-6ce0-41be-85c1-f337796be316",
   "metadata": {},
   "source": [
    "## 3. Visualizing the data:\n",
    "Few plots and graphs are displayed to find how the data is distributed and the how features are related to each other."
   ]
  },
  {
   "cell_type": "code",
   "execution_count": null,
   "id": "5caef3bd-c819-4faf-8c81-2adc45018011",
   "metadata": {},
   "outputs": [],
   "source": [
    "plt.figure(figsize=(15,15))\n",
    "sns.heatmap(data.corr(), annot=True)\n",
    "plt.show()"
   ]
  },
  {
   "cell_type": "code",
   "execution_count": null,
   "id": "cadbec55-0b56-48b6-bd77-d3207c4e8197",
   "metadata": {},
   "outputs": [],
   "source": [
    "#pairplot for particular features\n",
    "\n",
    "df = data[['PrefixSuffix-', 'SubDomains', 'HTTPS','AnchorURL','WebsiteTraffic','class']]\n",
    "sns.pairplot(data = df,hue=\"class\",corner=True);"
   ]
  },
  {
   "cell_type": "code",
   "execution_count": null,
   "id": "44750de1-8ad2-4919-ace1-cd9f7f0aca74",
   "metadata": {},
   "outputs": [],
   "source": [
    "# Phishing Count in pie chart\n",
    "\n",
    "data['class'].value_counts().plot(kind='pie',autopct='%1.2f%%')\n",
    "plt.title(\"Phishing Count\")\n",
    "plt.show()"
   ]
  },
  {
   "cell_type": "markdown",
   "id": "05959a90-0f11-43a8-8670-8ea86bb48a49",
   "metadata": {},
   "source": [
    "## 4. Splitting the Data:\n",
    "The data is split into train & test sets, 80-20 split."
   ]
  },
  {
   "cell_type": "code",
   "execution_count": null,
   "id": "d0db47ad-9e80-433f-b61a-70d0324afe4e",
   "metadata": {},
   "outputs": [],
   "source": [
    "# Splitting the dataset into dependant and independant fetature\n",
    "y = data['class']\n",
    "X = data.drop('class',axis=1)\n",
    "X.shape, y.shape"
   ]
  },
  {
   "cell_type": "code",
   "execution_count": null,
   "id": "28be9489-5b7c-49d6-9790-37b342e76ec6",
   "metadata": {},
   "outputs": [],
   "source": [
    "# Splitting the dataset into train and test sets: 80-20 split\n",
    "\n",
    "from sklearn.model_selection import train_test_split\n",
    "\n",
    "X_train, X_test, y_train, y_test = train_test_split(X, y, test_size = 0.2, random_state = 42)\n",
    "X_train.shape, y_train.shape, X_test.shape, y_test.shape\n"
   ]
  },
  {
   "cell_type": "markdown",
   "id": "87762b83-c6a6-486a-a380-0813acf26ed3",
   "metadata": {},
   "source": [
    "## 5. Model Building & Training:\n",
    "   Supervised machine learning is one of the most commonly used and successful types of machine learning. Supervised learning is used whenever we want to predict a certain outcome/label from a given set of features, and we have examples of features-label pairs. We build a machine learning model from these features-label pairs, which comprise our training set. Our goal is to make accurate predictions for new, never-before-seen data.\n",
    "\n",
    "   There are two major types of supervised machine learning problems, called classification and regression. Our data set comes under regression problem, as the prediction of suicide rate is a continuous number, or a floating-point number in programming terms. The supervised machine learning models (regression) considered to train the dataset in this notebook are:\n",
    "\n",
    "1. Logistic Regression\n",
    "2. k-Nearest Neighbors \n",
    "3. Support Vector Clasifier\n",
    "4. Naive Bayes\n",
    "5. Decision Tree\n",
    "6. Random Forest\n",
    "7. Gradient Boosting\n",
    "9.  Xgboost\n",
    "10. Multilayer Perceptrons\n",
    "\n",
    "              \n",
    "  The metrics considered to evaluate the model performance are Accuracy & F1 score."
   ]
  },
  {
   "cell_type": "code",
   "execution_count": null,
   "id": "d58321fb-87b2-47d9-9b15-abc2465f6f7b",
   "metadata": {},
   "outputs": [],
   "source": [
    "# Creating holders to store the model performance results\n",
    "ML_Model = []\n",
    "accuracy = []\n",
    "f1_score = []\n",
    "recall = []\n",
    "precision = []\n",
    "\n",
    "#function to call for storing the results\n",
    "def storeResults(model, a,b,c,d):\n",
    "  ML_Model.append(model)\n",
    "  accuracy.append(round(a, 3))\n",
    "  f1_score.append(round(b, 3))\n",
    "  recall.append(round(c, 3))\n",
    "  precision.append(round(d, 3))"
   ]
  },
  {
   "cell_type": "markdown",
   "id": "3d45a04e-7e2f-44a1-8487-97242fc38a11",
   "metadata": {},
   "source": [
    "## 5.1. Logistic Regression\n",
    "\n",
    "Logistic regression predicts the output of a categorical dependent variable. Therefore the outcome must be a categorical or discrete value. Logistic Regression is much similar to the Linear Regression except that how they are used. Linear Regression is used for solving Regression problems, whereas Logistic regression is used for solving the classification problems."
   ]
  },
  {
   "cell_type": "code",
   "execution_count": null,
   "id": "aebe50d4-46b9-4c5a-8b37-6ee3670ab499",
   "metadata": {},
   "outputs": [],
   "source": [
    "# Linear regression model \n",
    "from sklearn.linear_model import LogisticRegression\n",
    "from sklearn.pipeline import Pipeline\n",
    "\n",
    "# instantiate the model\n",
    "log = LogisticRegression()\n",
    "\n",
    "# fit the model \n",
    "log.fit(X_train,y_train)"
   ]
  },
  {
   "cell_type": "code",
   "execution_count": null,
   "id": "790c884c-031e-4e29-8f68-c8dfb523d9ff",
   "metadata": {},
   "outputs": [],
   "source": [
    "#predicting the target value from the model for the samples\n",
    "\n",
    "y_train_log = log.predict(X_train)\n",
    "y_test_log = log.predict(X_test)"
   ]
  },
  {
   "cell_type": "code",
   "execution_count": null,
   "id": "ba0d77c2-29d5-41b8-878c-60eb4085aa80",
   "metadata": {},
   "outputs": [],
   "source": [
    "#computing the accuracy, f1_score, Recall, precision of the model performance\n",
    "\n",
    "acc_train_log = metrics.accuracy_score(y_train,y_train_log)\n",
    "acc_test_log = metrics.accuracy_score(y_test,y_test_log)\n",
    "print(\"Logistic Regression : Accuracy on training Data: {:.3f}\".format(acc_train_log))\n",
    "print(\"Logistic Regression : Accuracy on test Data: {:.3f}\".format(acc_test_log))\n",
    "print()\n",
    "\n",
    "f1_score_train_log = metrics.f1_score(y_train,y_train_log)\n",
    "f1_score_test_log = metrics.f1_score(y_test,y_test_log)\n",
    "print(\"Logistic Regression : f1_score on training Data: {:.3f}\".format(f1_score_train_log))\n",
    "print(\"Logistic Regression : f1_score on test Data: {:.3f}\".format(f1_score_test_log))\n",
    "print()\n",
    "\n",
    "recall_score_train_log = metrics.recall_score(y_train,y_train_log)\n",
    "recall_score_test_log = metrics.recall_score(y_test,y_test_log)\n",
    "print(\"Logistic Regression : Recall on training Data: {:.3f}\".format(recall_score_train_log))\n",
    "print(\"Logistic Regression : Recall on test Data: {:.3f}\".format(recall_score_test_log))\n",
    "print()\n",
    "\n",
    "precision_score_train_log = metrics.precision_score(y_train,y_train_log)\n",
    "precision_score_test_log = metrics.precision_score(y_test,y_test_log)\n",
    "print(\"Logistic Regression : precision on training Data: {:.3f}\".format(precision_score_train_log))\n",
    "print(\"Logistic Regression : precision on test Data: {:.3f}\".format(precision_score_test_log))"
   ]
  },
  {
   "cell_type": "code",
   "execution_count": null,
   "id": "6dcb7b60-ce48-4641-824c-ce6f8e2a6f65",
   "metadata": {},
   "outputs": [],
   "source": [
    "#computing the classification report of the model\n",
    "\n",
    "print(metrics.classification_report(y_test, y_test_log))"
   ]
  },
  {
   "cell_type": "code",
   "execution_count": null,
   "id": "18dd9305-cce3-45fe-b063-708150582aa3",
   "metadata": {},
   "outputs": [],
   "source": [
    "#storing the results. The below mentioned order of parameter passing is important.\n",
    "\n",
    "storeResults('Logistic Regression',acc_test_log,f1_score_test_log,\n",
    "             recall_score_train_log,precision_score_train_log)"
   ]
  },
  {
   "cell_type": "markdown",
   "id": "87f42a4f-af55-4f6e-9f7a-980de91e121e",
   "metadata": {},
   "source": [
    "## 5.2. K-Nearest Neighbors : Classifier\n",
    "\n",
    "K-Nearest Neighbour is one of the simplest Machine Learning algorithms based on Supervised Learning technique. K-NN algorithm assumes the similarity between the new case/data and available cases and put the new case into the category that is most similar to the available categories."
   ]
  },
  {
   "cell_type": "code",
   "execution_count": null,
   "id": "58b7d7bc-dbc7-4085-9095-04317b4020df",
   "metadata": {},
   "outputs": [],
   "source": [
    "# K-Nearest Neighbors Classifier model\n",
    "from sklearn.neighbors import KNeighborsClassifier\n",
    "\n",
    "# instantiate the model\n",
    "knn = KNeighborsClassifier(n_neighbors=1)\n",
    "\n",
    "# fit the model \n",
    "knn.fit(X_train,y_train)"
   ]
  },
  {
   "cell_type": "code",
   "execution_count": null,
   "id": "f52a2be6-059c-43b0-bce1-187e78abbd86",
   "metadata": {},
   "outputs": [],
   "source": [
    "#predicting the target value from the model for the samples\n",
    "y_train_knn = knn.predict(X_train)\n",
    "y_test_knn = knn.predict(X_test)"
   ]
  },
  {
   "cell_type": "code",
   "execution_count": null,
   "id": "8b90201b-d05f-4737-a713-0deca7e5ee04",
   "metadata": {},
   "outputs": [],
   "source": [
    "#computing the accuracy,f1_score,Recall,precision of the model performance\n",
    "\n",
    "acc_train_knn = metrics.accuracy_score(y_train,y_train_knn)\n",
    "acc_test_knn = metrics.accuracy_score(y_test,y_test_knn)\n",
    "print(\"K-Nearest Neighbors : Accuracy on training Data: {:.3f}\".format(acc_train_knn))\n",
    "print(\"K-Nearest Neighbors : Accuracy on test Data: {:.3f}\".format(acc_test_knn))\n",
    "print()\n",
    "\n",
    "f1_score_train_knn = metrics.f1_score(y_train,y_train_knn)\n",
    "f1_score_test_knn = metrics.f1_score(y_test,y_test_knn)\n",
    "print(\"K-Nearest Neighbors : f1_score on training Data: {:.3f}\".format(f1_score_train_knn))\n",
    "print(\"K-Nearest Neighbors : f1_score on test Data: {:.3f}\".format(f1_score_test_knn))\n",
    "print()\n",
    "\n",
    "recall_score_train_knn = metrics.recall_score(y_train,y_train_knn)\n",
    "recall_score_test_knn = metrics.recall_score(y_test,y_test_knn)\n",
    "print(\"K-Nearest Neighborsn : Recall on training Data: {:.3f}\".format(recall_score_train_knn))\n",
    "print(\"Logistic Regression : Recall on test Data: {:.3f}\".format(recall_score_test_knn))\n",
    "print()\n",
    "\n",
    "precision_score_train_knn = metrics.precision_score(y_train,y_train_knn)\n",
    "precision_score_test_knn = metrics.precision_score(y_test,y_test_knn)\n",
    "print(\"K-Nearest Neighbors : precision on training Data: {:.3f}\".format(precision_score_train_knn))\n",
    "print(\"K-Nearest Neighbors : precision on test Data: {:.3f}\".format(precision_score_test_knn))"
   ]
  },
  {
   "cell_type": "code",
   "execution_count": null,
   "id": "0817a737-0e61-4bb7-b136-70ef7613e074",
   "metadata": {},
   "outputs": [],
   "source": [
    "#computing the classification report of the model\n",
    "\n",
    "print(metrics.classification_report(y_test, y_test_knn))"
   ]
  },
  {
   "cell_type": "code",
   "execution_count": null,
   "id": "fcec3b7c-f76e-4e7b-b0c7-b1f125382798",
   "metadata": {},
   "outputs": [],
   "source": [
    "training_accuracy = []\n",
    "test_accuracy = []\n",
    "# try max_depth from 1 to 20\n",
    "depth = range(1,20)\n",
    "for n in depth:\n",
    "    knn = KNeighborsClassifier(n_neighbors=n)\n",
    "\n",
    "    knn.fit(X_train, y_train)\n",
    "    # record training set accuracy\n",
    "    training_accuracy.append(knn.score(X_train, y_train))\n",
    "    # record generalization accuracy\n",
    "    test_accuracy.append(knn.score(X_test, y_test))\n",
    "    \n",
    "\n",
    "#plotting the training & testing accuracy for n_estimators from 1 to 20\n",
    "plt.plot(depth, training_accuracy, label=\"training accuracy\")\n",
    "plt.plot(depth, test_accuracy, label=\"test accuracy\")\n",
    "plt.ylabel(\"Accuracy\")  \n",
    "plt.xlabel(\"n_neighbors\")\n",
    "plt.legend();"
   ]
  },
  {
   "cell_type": "code",
   "execution_count": null,
   "id": "1c8ebbc8-6ad0-41eb-8b63-4221714926c1",
   "metadata": {},
   "outputs": [],
   "source": [
    "\n",
    "#storing the results. The below mentioned order of parameter passing is important.\n",
    "\n",
    "storeResults('K-Nearest Neighbors',acc_test_knn,f1_score_test_knn,\n",
    "             recall_score_train_knn,precision_score_train_knn)"
   ]
  },
  {
   "cell_type": "markdown",
   "id": "ceb1091d-c3b3-457f-8863-59730307f109",
   "metadata": {},
   "source": [
    "## 5.3. Support Vector Machine : Classifier\n",
    "\n",
    "Support Vector Machine or SVM is one of the most popular Supervised Learning algorithms, which is used for Classification as well as Regression problems. The goal of the SVM algorithm is to create the best line or decision boundary that can segregate n-dimensional space into classes so that we can easily put the new data point in the correct category in the future."
   ]
  },
  {
   "cell_type": "code",
   "execution_count": null,
   "id": "a7706bd7-de59-40dd-b7c5-2adb1d1b53c2",
   "metadata": {},
   "outputs": [],
   "source": [
    "# Support Vector Classifier model \n",
    "from sklearn.svm import SVC\n",
    "from sklearn.model_selection import GridSearchCV\n",
    "\n",
    "# defining parameter range\n",
    "param_grid = {'gamma': [0.1],'kernel': ['rbf','linear']}\n",
    "\n",
    "svc = GridSearchCV(SVC(), param_grid)\n",
    "\n",
    "# fitting the model for grid search\n",
    "svc.fit(X_train, y_train)"
   ]
  },
  {
   "cell_type": "code",
   "execution_count": null,
   "id": "584996ea-3864-4d73-a2d1-107193565071",
   "metadata": {},
   "outputs": [],
   "source": [
    "#predicting the target value from the model for the samples\n",
    "y_train_svc = svc.predict(X_train)\n",
    "y_test_svc = svc.predict(X_test)"
   ]
  },
  {
   "cell_type": "code",
   "execution_count": null,
   "id": "b66a83ae-952c-44c8-b09e-aae00f2dba4a",
   "metadata": {},
   "outputs": [],
   "source": [
    "#computing the accuracy, f1_score, Recall, precision of the model performance\n",
    "\n",
    "acc_train_svc = metrics.accuracy_score(y_train,y_train_svc)\n",
    "acc_test_svc = metrics.accuracy_score(y_test,y_test_svc)\n",
    "print(\"Support Vector Machine : Accuracy on training Data: {:.3f}\".format(acc_train_svc))\n",
    "print(\"Support Vector Machine : Accuracy on test Data: {:.3f}\".format(acc_test_svc))\n",
    "print()\n",
    "\n",
    "f1_score_train_svc = metrics.f1_score(y_train,y_train_svc)\n",
    "f1_score_test_svc = metrics.f1_score(y_test,y_test_svc)\n",
    "print(\"Support Vector Machine : f1_score on training Data: {:.3f}\".format(f1_score_train_svc))\n",
    "print(\"Support Vector Machine : f1_score on test Data: {:.3f}\".format(f1_score_test_svc))\n",
    "print()\n",
    "\n",
    "recall_score_train_svc = metrics.recall_score(y_train,y_train_svc)\n",
    "recall_score_test_svc = metrics.recall_score(y_test,y_test_svc)\n",
    "print(\"Support Vector Machine : Recall on training Data: {:.3f}\".format(recall_score_train_svc))\n",
    "print(\"Support Vector Machine : Recall on test Data: {:.3f}\".format(recall_score_test_svc))\n",
    "print()\n",
    "\n",
    "precision_score_train_svc = metrics.precision_score(y_train,y_train_svc)\n",
    "precision_score_test_svc = metrics.precision_score(y_test,y_test_svc)\n",
    "print(\"Support Vector Machine : precision on training Data: {:.3f}\".format(precision_score_train_svc))\n",
    "print(\"Support Vector Machine : precision on test Data: {:.3f}\".format(precision_score_test_svc))"
   ]
  },
  {
   "cell_type": "code",
   "execution_count": null,
   "id": "4527d615-70e2-43d9-9e8b-2e88cec59b57",
   "metadata": {},
   "outputs": [],
   "source": [
    "\n",
    "#computing the classification report of the model\n",
    "\n",
    "print(metrics.classification_report(y_test, y_test_svc))"
   ]
  },
  {
   "cell_type": "code",
   "execution_count": null,
   "id": "60ad8a80-88ef-4b49-89b0-d0e183e3f62d",
   "metadata": {},
   "outputs": [],
   "source": [
    "#storing the results. The below mentioned order of parameter passing is important.\n",
    "\n",
    "storeResults('Support Vector Machine',acc_test_svc,f1_score_test_svc,\n",
    "             recall_score_train_svc,precision_score_train_svc)"
   ]
  },
  {
   "cell_type": "markdown",
   "id": "248ac5af-313e-4566-b6c3-6eaf2a0290a2",
   "metadata": {},
   "source": [
    "## 5.4. Naive Bayes : Classifier\n",
    "\n",
    "Naïve Bayes algorithm is a supervised learning algorithm, which is based on Bayes theorem and used for solving classification problems.It is mainly used in text, image classification that includes a high-dimensional training dataset. Naïve Bayes Classifier is one of the simple and most effective Classification algorithms which helps in building the fast machine learning models that can make quick predictions."
   ]
  },
  {
   "cell_type": "code",
   "execution_count": null,
   "id": "015a93b5-27b5-4fd2-b70b-bad6ca27603e",
   "metadata": {},
   "outputs": [],
   "source": [
    "# Naive Bayes Classifier Model\n",
    "from sklearn.naive_bayes import GaussianNB\n",
    "from sklearn.pipeline import Pipeline\n",
    "\n",
    "# instantiate the model\n",
    "nb=  GaussianNB()\n",
    "\n",
    "# fit the model \n",
    "nb.fit(X_train,y_train)"
   ]
  },
  {
   "cell_type": "code",
   "execution_count": null,
   "id": "8799d1f7-2e4f-4b4e-bad4-33176ab59081",
   "metadata": {},
   "outputs": [],
   "source": [
    "#predicting the target value from the model for the samples\n",
    "y_train_nb = nb.predict(X_train)\n",
    "y_test_nb = nb.predict(X_test)"
   ]
  },
  {
   "cell_type": "code",
   "execution_count": null,
   "id": "96635e92-5865-4800-887a-838e8b50c973",
   "metadata": {},
   "outputs": [],
   "source": [
    "#computing the accuracy, f1_score, Recall, precision of the model performance\n",
    "\n",
    "acc_train_nb = metrics.accuracy_score(y_train,y_train_nb)\n",
    "acc_test_nb = metrics.accuracy_score(y_test,y_test_nb)\n",
    "print(\"Naive Bayes Classifier : Accuracy on training Data: {:.3f}\".format(acc_train_nb))\n",
    "print(\"Naive Bayes Classifier : Accuracy on test Data: {:.3f}\".format(acc_test_nb))\n",
    "print()\n",
    "\n",
    "f1_score_train_nb = metrics.f1_score(y_train,y_train_nb)\n",
    "f1_score_test_nb = metrics.f1_score(y_test,y_test_nb)\n",
    "print(\"Naive Bayes Classifier : f1_score on training Data: {:.3f}\".format(f1_score_train_nb))\n",
    "print(\"Naive Bayes Classifier : f1_score on test Data: {:.3f}\".format(f1_score_test_nb))\n",
    "print()\n",
    "\n",
    "recall_score_train_nb = metrics.recall_score(y_train,y_train_nb)\n",
    "recall_score_test_nb = metrics.recall_score(y_test,y_test_nb)\n",
    "print(\"Naive Bayes Classifier : Recall on training Data: {:.3f}\".format(recall_score_train_nb))\n",
    "print(\"Naive Bayes Classifier : Recall on test Data: {:.3f}\".format(recall_score_test_nb))\n",
    "print()\n",
    "\n",
    "precision_score_train_nb = metrics.precision_score(y_train,y_train_nb)\n",
    "precision_score_test_nb = metrics.precision_score(y_test,y_test_nb)\n",
    "print(\"Naive Bayes Classifier : precision on training Data: {:.3f}\".format(precision_score_train_nb))\n",
    "print(\"Naive Bayes Classifier : precision on test Data: {:.3f}\".format(precision_score_test_nb))"
   ]
  },
  {
   "cell_type": "code",
   "execution_count": null,
   "id": "ee7c9167-f9c8-49c6-8122-b58f311abc3f",
   "metadata": {},
   "outputs": [],
   "source": [
    "#computing the classification report of the model\n",
    "\n",
    "print(metrics.classification_report(y_test, y_test_svc))"
   ]
  },
  {
   "cell_type": "code",
   "execution_count": null,
   "id": "f215e718-dc79-413b-bb6d-6d30885bdf2b",
   "metadata": {},
   "outputs": [],
   "source": [
    "#storing the results. The below mentioned order of parameter passing is important.\n",
    "\n",
    "storeResults('Naive Bayes Classifier',acc_test_nb,f1_score_test_nb,\n",
    "             recall_score_train_nb,precision_score_train_nb)"
   ]
  },
  {
   "cell_type": "markdown",
   "id": "3c628148-9db1-4ca4-a018-234d638672f6",
   "metadata": {},
   "source": [
    "## 5.5. Decision Trees : Classifier\n",
    "\n",
    "Decision Tree is a Supervised learning technique that can be used for both classification and Regression problems, but mostly it is preferred for solving Classification problems. It is a tree-structured classifier, where internal nodes represent the features of a dataset, branches represent the decision rules and each leaf node represents the outcome."
   ]
  },
  {
   "cell_type": "code",
   "execution_count": null,
   "id": "f33e1e9c-4ef3-41be-a865-79d7e6e6bb74",
   "metadata": {},
   "outputs": [],
   "source": [
    "# Decision Tree Classifier model \n",
    "from sklearn.tree import DecisionTreeClassifier\n",
    "\n",
    "# instantiate the model \n",
    "tree = DecisionTreeClassifier(max_depth=30)\n",
    "\n",
    "# fit the model \n",
    "tree.fit(X_train, y_train)"
   ]
  },
  {
   "cell_type": "code",
   "execution_count": null,
   "id": "bd9d40b3-0de8-408d-aee7-df8844516c9a",
   "metadata": {},
   "outputs": [],
   "source": [
    "#predicting the target value from the model for the samples\n",
    "\n",
    "y_train_tree = tree.predict(X_train)\n",
    "y_test_tree = tree.predict(X_test)"
   ]
  },
  {
   "cell_type": "code",
   "execution_count": null,
   "id": "9bc8b74f-a1b9-46b3-960b-af30fa649622",
   "metadata": {},
   "outputs": [],
   "source": [
    "#computing the accuracy, f1_score, Recall, precision of the model performance\n",
    "\n",
    "acc_train_tree = metrics.accuracy_score(y_train,y_train_tree)\n",
    "acc_test_tree = metrics.accuracy_score(y_test,y_test_tree)\n",
    "print(\"Decision Tree : Accuracy on training Data: {:.3f}\".format(acc_train_tree))\n",
    "print(\"Decision Tree : Accuracy on test Data: {:.3f}\".format(acc_test_tree))\n",
    "print()\n",
    "\n",
    "f1_score_train_tree = metrics.f1_score(y_train,y_train_tree)\n",
    "f1_score_test_tree = metrics.f1_score(y_test,y_test_tree)\n",
    "print(\"Decision Tree : f1_score on training Data: {:.3f}\".format(f1_score_train_tree))\n",
    "print(\"Decision Tree : f1_score on test Data: {:.3f}\".format(f1_score_test_tree))\n",
    "print()\n",
    "\n",
    "recall_score_train_tree = metrics.recall_score(y_train,y_train_tree)\n",
    "recall_score_test_tree = metrics.recall_score(y_test,y_test_tree)\n",
    "print(\"Decision Tree : Recall on training Data: {:.3f}\".format(recall_score_train_tree))\n",
    "print(\"Decision Tree : Recall on test Data: {:.3f}\".format(recall_score_test_tree))\n",
    "print()\n",
    "\n",
    "precision_score_train_tree = metrics.precision_score(y_train,y_train_tree)\n",
    "precision_score_test_tree = metrics.precision_score(y_test,y_test_tree)\n",
    "print(\"Decision Tree : precision on training Data: {:.3f}\".format(precision_score_train_tree))\n",
    "print(\"Decision Tree : precision on test Data: {:.3f}\".format(precision_score_test_tree))"
   ]
  },
  {
   "cell_type": "code",
   "execution_count": null,
   "id": "b420a52d-5b67-4e2c-9dde-ac2c86d4a3a0",
   "metadata": {},
   "outputs": [],
   "source": [
    "#computing the classification report of the model\n",
    "\n",
    "print(metrics.classification_report(y_test, y_test_tree))"
   ]
  },
  {
   "cell_type": "code",
   "execution_count": null,
   "id": "53882ce9-1cc0-40d8-9d75-b3d32b65a22d",
   "metadata": {},
   "outputs": [],
   "source": [
    "training_accuracy = []\n",
    "test_accuracy = []\n",
    "# try max_depth from 1 to 30\n",
    "depth = range(1,30)\n",
    "for n in depth:\n",
    "    tree_test = DecisionTreeClassifier(max_depth=n)\n",
    "\n",
    "    tree_test.fit(X_train, y_train)\n",
    "    # record training set accuracy\n",
    "    training_accuracy.append(tree_test.score(X_train, y_train))\n",
    "    # record generalization accuracy\n",
    "    test_accuracy.append(tree_test.score(X_test, y_test))\n",
    "    \n",
    "\n",
    "#plotting the training & testing accuracy for max_depth from 1 to 30\n",
    "plt.plot(depth, training_accuracy, label=\"training accuracy\")\n",
    "plt.plot(depth, test_accuracy, label=\"test accuracy\")\n",
    "plt.ylabel(\"Accuracy\")  \n",
    "plt.xlabel(\"max_depth\")\n",
    "plt.legend();\n"
   ]
  },
  {
   "cell_type": "code",
   "execution_count": null,
   "id": "c5e04727-731b-4c27-b1c5-25ae536b2693",
   "metadata": {},
   "outputs": [],
   "source": [
    "#storing the results. The below mentioned order of parameter passing is important.\n",
    "\n",
    "storeResults('Decision Tree',acc_test_tree,f1_score_test_tree,\n",
    "             recall_score_train_tree,precision_score_train_tree)"
   ]
  },
  {
   "cell_type": "markdown",
   "id": "7bcdd816-b640-4c49-b6a3-52c9b1d11ab7",
   "metadata": {},
   "source": [
    "## 5.6. Random Forest : Classifier\n",
    "\n",
    "Random Forest is a popular machine learning algorithm that belongs to the supervised learning technique. It can be used for both Classification and Regression problems in ML. It is based on the concept of ensemble learning, which is a process of combining multiple classifiers to solve a complex problem and to improve the performance of the model."
   ]
  },
  {
   "cell_type": "code",
   "execution_count": null,
   "id": "562c06e0-cfbc-4c49-9a6e-6461ff7eef14",
   "metadata": {},
   "outputs": [],
   "source": [
    "# Random Forest Classifier Model\n",
    "from sklearn.ensemble import RandomForestClassifier\n",
    "\n",
    "# instantiate the model\n",
    "forest = RandomForestClassifier(n_estimators=10)\n",
    "\n",
    "# fit the model \n",
    "forest.fit(X_train,y_train)"
   ]
  },
  {
   "cell_type": "code",
   "execution_count": null,
   "id": "c37d8946-4488-43d0-b463-f44cd022a656",
   "metadata": {},
   "outputs": [],
   "source": [
    "#predicting the target value from the model for the samples\n",
    "y_train_forest = forest.predict(X_train)\n",
    "y_test_forest = forest.predict(X_test)"
   ]
  },
  {
   "cell_type": "code",
   "execution_count": null,
   "id": "8a4cbdcb-4711-4fe8-a528-206de4f15dd5",
   "metadata": {},
   "outputs": [],
   "source": [
    "#computing the accuracy, f1_score, Recall, precision of the model performance\n",
    "\n",
    "acc_train_forest = metrics.accuracy_score(y_train,y_train_forest)\n",
    "acc_test_forest = metrics.accuracy_score(y_test,y_test_forest)\n",
    "print(\"Random Forest : Accuracy on training Data: {:.3f}\".format(acc_train_forest))\n",
    "print(\"Random Forest : Accuracy on test Data: {:.3f}\".format(acc_test_forest))\n",
    "print()\n",
    "\n",
    "f1_score_train_forest = metrics.f1_score(y_train,y_train_forest)\n",
    "f1_score_test_forest = metrics.f1_score(y_test,y_test_forest)\n",
    "print(\"Random Forest : f1_score on training Data: {:.3f}\".format(f1_score_train_forest))\n",
    "print(\"Random Forest : f1_score on test Data: {:.3f}\".format(f1_score_test_forest))\n",
    "print()\n",
    "\n",
    "recall_score_train_forest = metrics.recall_score(y_train,y_train_forest)\n",
    "recall_score_test_forest = metrics.recall_score(y_test,y_test_forest)\n",
    "print(\"Random Forest : Recall on training Data: {:.3f}\".format(recall_score_train_forest))\n",
    "print(\"Random Forest : Recall on test Data: {:.3f}\".format(recall_score_test_forest))\n",
    "print()\n",
    "\n",
    "precision_score_train_forest = metrics.precision_score(y_train,y_train_forest)\n",
    "precision_score_test_forest = metrics.precision_score(y_test,y_test_tree)\n",
    "print(\"Random Forest : precision on training Data: {:.3f}\".format(precision_score_train_forest))\n",
    "print(\"Random Forest : precision on test Data: {:.3f}\".format(precision_score_test_forest))"
   ]
  },
  {
   "cell_type": "code",
   "execution_count": null,
   "id": "96c5b32e-2004-4dc5-bc27-bc0938368fc8",
   "metadata": {},
   "outputs": [],
   "source": [
    "#computing the classification report of the model\n",
    "\n",
    "print(metrics.classification_report(y_test, y_test_forest))"
   ]
  },
  {
   "cell_type": "code",
   "execution_count": null,
   "id": "1dcffa82-35cc-4358-a2ec-55bdfe8302b4",
   "metadata": {},
   "outputs": [],
   "source": [
    "training_accuracy = []\n",
    "test_accuracy = []\n",
    "# try max_depth from 1 to 20\n",
    "depth = range(1,20)\n",
    "for n in depth:\n",
    "    forest_test =  RandomForestClassifier(n_estimators=n)\n",
    "\n",
    "    forest_test.fit(X_train, y_train)\n",
    "    # record training set accuracy\n",
    "    training_accuracy.append(forest_test.score(X_train, y_train))\n",
    "    # record generalization accuracy\n",
    "    test_accuracy.append(forest_test.score(X_test, y_test))\n",
    "    \n",
    "\n",
    "#plotting the training & testing accuracy for n_estimators from 1 to 20\n",
    "plt.figure(figsize=None)\n",
    "plt.plot(depth, training_accuracy, label=\"training accuracy\")\n",
    "plt.plot(depth, test_accuracy, label=\"test accuracy\")\n",
    "plt.ylabel(\"Accuracy\")  \n",
    "plt.xlabel(\"n_estimators\")\n",
    "plt.legend();\n"
   ]
  },
  {
   "cell_type": "code",
   "execution_count": null,
   "id": "0071ec5b-ee8e-4b29-a5f1-371596890229",
   "metadata": {},
   "outputs": [],
   "source": [
    "#storing the results. The below mentioned order of parameter passing is important.\n",
    "\n",
    "storeResults('Random Forest',acc_test_forest,f1_score_test_forest,\n",
    "             recall_score_train_forest,precision_score_train_forest)"
   ]
  },
  {
   "cell_type": "markdown",
   "id": "827a775c-9d69-4e83-8a60-b82c6327ad94",
   "metadata": {},
   "source": [
    "## 5.7.Gradient Boosting Classifier\n",
    "Gradient boosting classifiers are a group of machine learning algorithms that combine many weak learning models together to create a strong predictive model. Decision trees are usually used when doing gradient boosting. Boosting algorithms play a crucial role in dealing with bias variance trade-off.  Unlike bagging algorithms, which only controls for high variance in a model, boosting controls both the aspects (bias & variance), and is considered to be more effective. "
   ]
  },
  {
   "cell_type": "code",
   "execution_count": null,
   "id": "c8e57c83-2ed2-42ca-93a4-b4e0203faa91",
   "metadata": {},
   "outputs": [],
   "source": [
    "# Gradient Boosting Classifier Model\n",
    "from sklearn.ensemble import GradientBoostingClassifier\n",
    "\n",
    "# instantiate the model\n",
    "gbc = GradientBoostingClassifier(max_depth=4,learning_rate=0.7)\n",
    "\n",
    "# fit the model \n",
    "gbc.fit(X_train,y_train)"
   ]
  },
  {
   "cell_type": "code",
   "execution_count": null,
   "id": "f5945d52-9d35-4b40-8469-d20d044e5e3e",
   "metadata": {},
   "outputs": [],
   "source": [
    "#predicting the target value from the model for the samples\n",
    "y_train_gbc = gbc.predict(X_train)\n",
    "y_test_gbc = gbc.predict(X_test)"
   ]
  },
  {
   "cell_type": "code",
   "execution_count": null,
   "id": "b23e7b1f-e492-4c20-92a8-6482e8e0dfa0",
   "metadata": {},
   "outputs": [],
   "source": [
    "#computing the accuracy, f1_score, Recall, precision of the model performance\n",
    "\n",
    "acc_train_gbc = metrics.accuracy_score(y_train,y_train_gbc)\n",
    "acc_test_gbc = metrics.accuracy_score(y_test,y_test_gbc)\n",
    "print(\"Gradient Boosting Classifier : Accuracy on training Data: {:.3f}\".format(acc_train_gbc))\n",
    "print(\"Gradient Boosting Classifier : Accuracy on test Data: {:.3f}\".format(acc_test_gbc))\n",
    "print()\n",
    "\n",
    "f1_score_train_gbc = metrics.f1_score(y_train,y_train_gbc,average='macro')\n",
    "f1_score_test_gbc = metrics.f1_score(y_test,y_test_gbc,average='macro')\n",
    "print(\"Gradient Boosting Classifier : f1_score on training Data: {:.3f}\".format(f1_score_train_gbc))\n",
    "print(\"Gradient Boosting Classifier : f1_score on test Data: {:.3f}\".format(f1_score_test_gbc))\n",
    "print()\n",
    "\n",
    "recall_score_train_gbc = metrics.recall_score(y_train,y_train_gbc,average='macro')\n",
    "recall_score_test_gbc =  metrics.recall_score(y_test,y_test_gbc,average='macro')\n",
    "print(\"Gradient Boosting Classifier : Recall on training Data: {:.3f}\".format(recall_score_train_gbc))\n",
    "print(\"Gradient Boosting Classifier : Recall on test Data: {:.3f}\".format(recall_score_test_gbc))\n",
    "print()\n",
    "\n",
    "precision_score_train_gbc = metrics.precision_score(y_train,y_train_gbc,average='macro')\n",
    "precision_score_test_gbc = metrics.precision_score(y_test,y_test_gbc,average='macro')\n",
    "print(\"Gradient Boosting Classifier : precision on training Data: {:.3f}\".format(precision_score_train_gbc))\n",
    "print(\"Gradient Boosting Classifier : precision on test Data: {:.3f}\".format(precision_score_test_gbc))"
   ]
  },
  {
   "cell_type": "code",
   "execution_count": null,
   "id": "79473730-3443-4912-bcdd-75cd57e5b7df",
   "metadata": {},
   "outputs": [],
   "source": [
    "#computing the classification report of the model\n",
    "\n",
    "print(metrics.classification_report(y_test, y_test_gbc))"
   ]
  },
  {
   "cell_type": "code",
   "execution_count": null,
   "id": "0043c595-8ed6-4ae0-b69a-93cd348ae9e3",
   "metadata": {},
   "outputs": [],
   "source": [
    "training_accuracy = []\n",
    "test_accuracy = []\n",
    "# try learning_rate from 0.1 to 0.9\n",
    "depth = range(1,10)\n",
    "for n in depth:\n",
    "    forest_test =  GradientBoostingClassifier(learning_rate = n*0.1)\n",
    "\n",
    "    forest_test.fit(X_train, y_train)\n",
    "    # record training set accuracy\n",
    "    training_accuracy.append(forest_test.score(X_train, y_train))\n",
    "    # record generalization accuracy\n",
    "    test_accuracy.append(forest_test.score(X_test, y_test))\n",
    "    \n",
    "\n",
    "#plotting the training & testing accuracy for n_estimators from 1 to 50\n",
    "plt.figure(figsize=None)\n",
    "plt.plot(depth, training_accuracy, label=\"training accuracy\")\n",
    "plt.plot(depth, test_accuracy, label=\"test accuracy\")\n",
    "plt.ylabel(\"Accuracy\")  \n",
    "plt.xlabel(\"learning_rate\")\n",
    "plt.legend();"
   ]
  },
  {
   "cell_type": "code",
   "execution_count": null,
   "id": "bf20fd81-f337-46f8-b67d-496edddaa6d8",
   "metadata": {},
   "outputs": [],
   "source": [
    "training_accuracy = []\n",
    "test_accuracy = []\n",
    "# try learning_rate from 0.1 to 0.9\n",
    "depth = range(1,10,1)\n",
    "for n in depth:\n",
    "    forest_test =  GradientBoostingClassifier(max_depth=n,learning_rate = 0.7)\n",
    "\n",
    "    forest_test.fit(X_train, y_train)\n",
    "    # record training set accuracy\n",
    "    training_accuracy.append(forest_test.score(X_train, y_train))\n",
    "    # record generalization accuracy\n",
    "    test_accuracy.append(forest_test.score(X_test, y_test))\n",
    "    \n",
    "\n",
    "#plotting the training & testing accuracy for n_estimators from 1 to 50\n",
    "plt.figure(figsize=None)\n",
    "plt.plot(depth, training_accuracy, label=\"training accuracy\")\n",
    "plt.plot(depth, test_accuracy, label=\"test accuracy\")\n",
    "plt.ylabel(\"Accuracy\")  \n",
    "plt.xlabel(\"max_depth\")\n",
    "plt.legend();"
   ]
  },
  {
   "cell_type": "code",
   "execution_count": null,
   "id": "352abec2-7947-4974-9b0b-46a746330bbd",
   "metadata": {},
   "outputs": [],
   "source": [
    "#storing the results. The below mentioned order of parameter passing is important.\n",
    "\n",
    "storeResults('Gradient Boosting Classifier',acc_test_gbc,f1_score_test_gbc,\n",
    "             recall_score_train_gbc,precision_score_train_gbc)"
   ]
  },
  {
   "cell_type": "markdown",
   "id": "7c383f55-f637-4a15-bc38-bb1cc2b2c60f",
   "metadata": {},
   "source": [
    "## 5.8. CatBoost Classifier\n",
    "\n",
    "CatBoost is a recently open-sourced machine learning algorithm from Yandex. It can easily integrate with deep learning frameworks like Google’s TensorFlow and Apple’s Core ML. It can work with diverse data types to help solve a wide range of problems that businesses face today."
   ]
  },
  {
   "cell_type": "code",
   "execution_count": null,
   "id": "e21ed6c1",
   "metadata": {},
   "outputs": [],
   "source": [
    "!pip3 install catboost"
   ]
  },
  {
   "cell_type": "code",
   "execution_count": null,
   "id": "d4a7f3e2-94a8-4be9-9c59-b056d55a111b",
   "metadata": {},
   "outputs": [],
   "source": [
    "#  catboost Classifier Model\n",
    "from catboost import CatBoostClassifier\n",
    "\n",
    "# instantiate the model\n",
    "cat = CatBoostClassifier(learning_rate  = 0.1)\n",
    "\n",
    "# fit the model \n",
    "cat.fit(X_train,y_train)"
   ]
  },
  {
   "cell_type": "code",
   "execution_count": null,
   "id": "6fb62797-50bb-472d-bc77-9300bc5bb8e2",
   "metadata": {},
   "outputs": [],
   "source": [
    "#predicting the target value from the model for the samples\n",
    "y_train_cat = cat.predict(X_train)\n",
    "y_test_cat = cat.predict(X_test)"
   ]
  },
  {
   "cell_type": "code",
   "execution_count": null,
   "id": "9f3f871b-a025-463e-8b9d-cdd4764fbd87",
   "metadata": {},
   "outputs": [],
   "source": [
    "#computing the accuracy, f1_score, Recall, precision of the model performance\n",
    "\n",
    "acc_train_cat  = metrics.accuracy_score(y_train,y_train_cat)\n",
    "acc_test_cat = metrics.accuracy_score(y_test,y_test_cat)\n",
    "print(\"CatBoost Classifier : Accuracy on training Data: {:.3f}\".format(acc_train_cat))\n",
    "print(\"CatBoost Classifier : Accuracy on test Data: {:.3f}\".format(acc_test_cat))\n",
    "print()\n",
    "\n",
    "f1_score_train_cat = metrics.f1_score(y_train,y_train_cat,average='macro')\n",
    "f1_score_test_cat = metrics.f1_score(y_test,y_test_cat,average='macro')\n",
    "print(\"CatBoost Classifier : f1_score on training Data: {:.3f}\".format(f1_score_train_cat))\n",
    "print(\"CatBoost Classifier : f1_score on test Data: {:.3f}\".format(f1_score_test_cat))\n",
    "print()\n",
    "\n",
    "recall_score_train_cat = metrics.recall_score(y_train,y_train_cat,average='macro')\n",
    "recall_score_test_cat = metrics.recall_score(y_test,y_test_cat,average='macro')\n",
    "print(\"CatBoost Classifier : Recall on training Data: {:.3f}\".format(recall_score_train_cat))\n",
    "print(\"CatBoost Classifier : Recall on test Data: {:.3f}\".format(recall_score_test_cat))\n",
    "print()\n",
    "\n",
    "precision_score_train_cat = metrics.precision_score(y_train,y_train_cat,average='macro')\n",
    "precision_score_test_cat = metrics.precision_score(y_test,y_test_cat,average='macro')\n",
    "print(\"CatBoost Classifier : precision on training Data: {:.3f}\".format(precision_score_train_cat))\n",
    "print(\"CatBoost Classifier : precision on test Data: {:.3f}\".format(precision_score_test_cat))"
   ]
  },
  {
   "cell_type": "code",
   "execution_count": null,
   "id": "2acb5d82-eadf-451f-a2c3-eb4a5441fc98",
   "metadata": {},
   "outputs": [],
   "source": [
    "#computing the classification report of the model\n",
    "\n",
    "print(metrics.classification_report(y_test, y_test_cat))"
   ]
  },
  {
   "cell_type": "code",
   "execution_count": null,
   "id": "985b8011-ef85-4ac1-b22d-8018d555f8db",
   "metadata": {},
   "outputs": [],
   "source": [
    "training_accuracy = []\n",
    "test_accuracy = []\n",
    "# try learning_rate from 0.1 to 0.9\n",
    "depth = range(1,10)\n",
    "for n in depth:\n",
    "    forest_test =  CatBoostClassifier(learning_rate = n*0.1)\n",
    "\n",
    "    forest_test.fit(X_train, y_train)\n",
    "    # record training set accuracy\n",
    "    training_accuracy.append(forest_test.score(X_train, y_train))\n",
    "    # record generalization accuracy\n",
    "    test_accuracy.append(forest_test.score(X_test, y_test))"
   ]
  },
  {
   "cell_type": "code",
   "execution_count": null,
   "id": "366ad8af-c44f-44af-84e1-e1c5caa146ef",
   "metadata": {},
   "outputs": [],
   "source": [
    "#plotting the training & testing accuracy for n_estimators from 1 to 50\n",
    "plt.figure(figsize=None)\n",
    "plt.plot(depth, training_accuracy, label=\"training accuracy\")\n",
    "plt.plot(depth, test_accuracy, label=\"test accuracy\")\n",
    "plt.ylabel(\"Accuracy\")  \n",
    "plt.xlabel(\"learning_rate\")\n",
    "plt.legend();"
   ]
  },
  {
   "cell_type": "code",
   "execution_count": null,
   "id": "bf732807-e734-4d36-9638-3eb9663d9bc3",
   "metadata": {},
   "outputs": [],
   "source": [
    "#storing the results. The below mentioned order of parameter passing is important.\n",
    "\n",
    "storeResults('CatBoost Classifier',acc_test_cat,f1_score_test_cat,\n",
    "             recall_score_train_cat,precision_score_train_cat)"
   ]
  },
  {
   "cell_type": "markdown",
   "id": "acdb26dd-bdf5-49c6-8b43-961133af06fa",
   "metadata": {},
   "source": [
    "## 5.9. Multi-layer Perceptron classifier\n",
    "\n",
    "MLPClassifier stands for Multi-layer Perceptron classifier which in the name itself connects to a Neural Network. Unlike other classification algorithms such as Support Vectors or Naive Bayes Classifier, MLPClassifier relies on an underlying Neural Network to perform the task of classification.\n"
   ]
  },
  {
   "cell_type": "code",
   "execution_count": null,
   "id": "3d6ccab6-8ff1-4d5a-972e-d5c9c3c4f4b7",
   "metadata": {},
   "outputs": [],
   "source": [
    "# Multi-layer Perceptron Classifier Model\n",
    "from sklearn.neural_network import MLPClassifier\n",
    "\n",
    "# instantiate the model\n",
    "mlp = MLPClassifier()\n",
    "#mlp = GridSearchCV(mlpc, parameter_space)\n",
    "\n",
    "# fit the model \n",
    "mlp.fit(X_train,y_train)"
   ]
  },
  {
   "cell_type": "code",
   "execution_count": null,
   "id": "303ea797-9fde-43a8-a02a-83e8a0cd545b",
   "metadata": {},
   "outputs": [],
   "source": [
    "#predicting the target value from the model for the samples\n",
    "y_train_mlp = mlp.predict(X_train)\n",
    "y_test_mlp = mlp.predict(X_test)"
   ]
  },
  {
   "cell_type": "code",
   "execution_count": null,
   "id": "23fb6b0b-f70e-4d65-98bc-fefab95498d4",
   "metadata": {},
   "outputs": [],
   "source": [
    "#computing the accuracy, f1_score, Recall, precision of the model performance\n",
    "\n",
    "acc_train_mlp  = metrics.accuracy_score(y_train,y_train_mlp)\n",
    "acc_test_mlp = metrics.accuracy_score(y_test,y_test_mlp)\n",
    "print(\"Multi-layer Perceptron : Accuracy on training Data: {:.3f}\".format(acc_train_mlp))\n",
    "print(\"Multi-layer Perceptron : Accuracy on test Data: {:.3f}\".format(acc_test_mlp))\n",
    "print()\n",
    "\n",
    "f1_score_train_mlp = metrics.f1_score(y_train,y_train_mlp,average='micro')\n",
    "f1_score_test_mlp = metrics.f1_score(y_test,y_test_mlp,average='micro')\n",
    "print(\"Multi-layer Perceptron : f1_score on training Data: {:.3f}\".format(f1_score_train_mlp))\n",
    "print(\"Multi-layer Perceptron : f1_score on test Data: {:.3f}\".format(f1_score_train_mlp))\n",
    "print()\n",
    "\n",
    "recall_score_train_mlp = metrics.recall_score(y_train,y_train_mlp,average='micro')\n",
    "recall_score_test_mlp = metrics.recall_score(y_test,y_test_mlp,average='micro')\n",
    "print(\"Multi-layer Perceptron : Recall on training Data: {:.3f}\".format(recall_score_train_mlp))\n",
    "print(\"Multi-layer Perceptron : Recall on test Data: {:.3f}\".format(recall_score_test_mlp))\n",
    "print()\n",
    "\n",
    "precision_score_train_mlp = metrics.precision_score(y_train,y_train_mlp,average='micro')\n",
    "precision_score_test_mlp = metrics.precision_score(y_test,y_test_mlp,average='micro')\n",
    "print(\"Multi-layer Perceptron : precision on training Data: {:.3f}\".format(precision_score_train_mlp))\n",
    "print(\"Multi-layer Perceptron : precision on test Data: {:.3f}\".format(precision_score_test_mlp))"
   ]
  },
  {
   "cell_type": "code",
   "execution_count": null,
   "id": "bab142e7-b370-469c-9a98-852dc0618609",
   "metadata": {},
   "outputs": [],
   "source": [
    "#storing the results. The below mentioned order of parameter passing is important.\n",
    "\n",
    "storeResults('Multi-layer Perceptron',acc_test_mlp,f1_score_test_mlp,\n",
    "             recall_score_train_mlp,precision_score_train_mlp)"
   ]
  },
  {
   "cell_type": "markdown",
   "id": "84c14e1a-64c6-4274-bd42-7d1a0f5e953e",
   "metadata": {},
   "source": [
    "## 6. Comparision of Models\n",
    "To compare the models performance, a dataframe is created. The columns of this dataframe are the lists created to store the results of the model."
   ]
  },
  {
   "cell_type": "code",
   "execution_count": null,
   "id": "28c6c78f-7899-4305-9a96-028d815b9153",
   "metadata": {},
   "outputs": [],
   "source": [
    "\n",
    "#creating dataframe\n",
    "result = pd.DataFrame({ 'ML Model' : ML_Model,\n",
    "                        'Accuracy' : accuracy,\n",
    "                        'f1_score' : f1_score,\n",
    "                        'Recall'   : recall,\n",
    "                        'Precision': precision,\n",
    "                      })"
   ]
  },
  {
   "cell_type": "code",
   "execution_count": null,
   "id": "20a118dc-9805-481c-a6b8-13d26d0e8abc",
   "metadata": {},
   "outputs": [],
   "source": [
    "# dispalying total result\n",
    "result"
   ]
  },
  {
   "cell_type": "code",
   "execution_count": null,
   "id": "688f3cd7-9d64-40d8-89a3-2fd9608f80bd",
   "metadata": {},
   "outputs": [],
   "source": [
    "#Sorting the datafram on accuracy\n",
    "sorted_result=result.sort_values(by=['Accuracy', 'f1_score'],ascending=False).reset_index(drop=True)"
   ]
  },
  {
   "cell_type": "code",
   "execution_count": null,
   "id": "05aa4762-a015-4812-9148-9e7ab4d5a6c0",
   "metadata": {
    "scrolled": true
   },
   "outputs": [],
   "source": [
    "# dispalying total result\n",
    "sorted_result\n"
   ]
  },
  {
   "cell_type": "code",
   "execution_count": null,
   "id": "8d9c2408-a524-4d1c-9371-337eef172565",
   "metadata": {},
   "outputs": [],
   "source": [
    "import pandas as pd\n",
    "import matplotlib.pyplot as plt\n",
    "\n",
    "# Create a DataFrame from the sorted results\n",
    "data = {\n",
    "    'ML Model': [\n",
    "        'Gradient Boosting Classifier',\n",
    "        'CatBoost Classifier',\n",
    "        'Random Forest',\n",
    "        'Support Vector Machine',\n",
    "        'Multi-layer Perceptron',\n",
    "        'Decision Tree',\n",
    "        'K-Nearest Neighbors',\n",
    "        'Logistic Regression',\n",
    "        'Naive Bayes Classifier'\n",
    "    ],\n",
    "    'Accuracy': [0.974, 0.972, 0.967, 0.964, 0.963, 0.962, 0.956, 0.934, 0.605],\n",
    "    'f1_score': [0.974, 0.972, 0.971, 0.968, 0.963, 0.966, 0.961, 0.941, 0.454],\n",
    "    'Recall': [0.988, 0.990, 0.993, 0.980, 0.984, 0.991, 0.991, 0.943, 0.292],\n",
    "    'Precision': [0.989, 0.991, 0.990, 0.965, 0.984, 0.993, 0.989, 0.927, 0.997]\n",
    "}\n",
    "\n",
    "df = pd.DataFrame(data)\n",
    "\n",
    "# Set 'ML Model' as index\n",
    "df.set_index('ML Model', inplace=True)\n",
    "\n",
    "# Plot the scores for each model\n",
    "fig, ax = plt.subplots(figsize=(10, 10))\n",
    "df.plot(kind='bar', ax=ax)\n",
    "ax.set_xticklabels(df.index, rotation=45, ha='right')\n",
    "ax.set_ylim([0, 1])  # Assuming the scores range from 0 to 1\n",
    "ax.set_xlabel('Model')\n",
    "ax.set_ylabel('Score')\n",
    "ax.set_title('Model Scores')\n",
    "plt.legend(loc='lower right')\n",
    "plt.show()\n"
   ]
  },
  {
   "cell_type": "markdown",
   "id": "4d059c3a-7ce2-4af1-81b5-3a22a8f07d50",
   "metadata": {},
   "source": [
    "## Confusion Matrix"
   ]
  },
  {
   "cell_type": "code",
   "execution_count": null,
   "id": "2183de04-b07b-4b76-a443-f462d6115f97",
   "metadata": {},
   "outputs": [],
   "source": [
    "confusion_matrix = metrics.confusion_matrix(y_test,y_test_gbc)\n",
    "confusion_matrix\n",
    "\n",
    "class_names = [0,1] \n",
    "\n",
    "fig, ax = plt.subplots()\n",
    "tick_marks = np.arange(len(class_names)) \n",
    "plt.xticks(tick_marks, class_names)\n",
    "plt.yticks(tick_marks, class_names)\n",
    "sns.heatmap(pd.DataFrame(confusion_matrix), annot=True, cmap=\"YlGnBu\" ,fmt='g') \n",
    "ax.xaxis.set_label_position(\"top\")\n",
    "plt.tight_layout()\n",
    "plt.title('Confusion matrix', y = 1.1)\n",
    "plt.ylabel('Actuals')\n",
    "plt.xlabel('Predicted')"
   ]
  },
  {
   "cell_type": "markdown",
   "id": "cc1bd301-718f-4854-b555-ad924ccbf18a",
   "metadata": {},
   "source": [
    "## Storing Best Model"
   ]
  },
  {
   "cell_type": "code",
   "execution_count": null,
   "id": "aecedeef-0ed3-454a-a13b-fdb72271f4a3",
   "metadata": {},
   "outputs": [],
   "source": [
    "import pickle\n",
    "# dump information to that file\n",
    "pickle.dump(gbc, open('newmodel.pkl', 'wb'))"
   ]
  },
  {
   "cell_type": "code",
   "execution_count": null,
   "id": "af911c75-ac0b-4c99-bfbe-0ea1f6ab7ae3",
   "metadata": {},
   "outputs": [],
   "source": [
    "gbc = pickle.load(open(\"newmodel.pkl\",\"rb\"))"
   ]
  },
  {
   "cell_type": "code",
   "execution_count": null,
   "id": "ea562f5c-e9bd-4116-9e6b-37cd7e2d7467",
   "metadata": {},
   "outputs": [],
   "source": [
    "from feature import FeatureExtraction\n",
    "url=\"http://8csdg3iejj.lilagoraj.pl/\"\n",
    "#can provide any URL. this URL was taken from PhishTank\n",
    "obj = FeatureExtraction(url)\n",
    "x = np.array(obj.getFeaturesList()).reshape(1,30)\n",
    "print(\"Feature Array: \",x)\n",
    "y_pro_phishing = gbc.predict_proba(x)[0,0]\n",
    "y_pro_non_phishing = gbc.predict_proba(x)[0,1]\n",
    "print(y_pro_phishing, y_pro_non_phishing,\"\\n\")\n",
    "y_pred =gbc.predict(x)[0]\n",
    "print(\"Prediction = \",y_pred)\n",
    "if y_pred==1:\n",
    "  print(\"It is a safe website\")\n",
    "else:\n",
    "  print(\"Caution! Suspicious website detected\")"
   ]
  },
  {
   "cell_type": "markdown",
   "id": "070e97d6-552f-469e-a939-4f4ace9b4dc7",
   "metadata": {},
   "source": [
    "## 7. Conclusion\n",
    "\n",
    "1. The final take away form this project is to explore various machine learning models, perform Exploratory Data Analysis on phishing dataset and understanding their features. \n",
    "2. Creating this notebook helped me to learn a lot about the features affecting the models to detect whether URL is safe or not, also I came to know how to tuned model and how they affect the model performance.\n",
    "3. The final conclusion on the Phishing dataset is that the some feature like \"HTTTPS\", \"AnchorURL\", \"WebsiteTraffic\" have more importance to classify URL is phishing URL or not. \n",
    "4. Gradient Boosting Classifier currectly classify URL upto 97.4% respective classes and hence reduces the chance of malicious attachments.\n"
   ]
  }
 ],
 "metadata": {
  "kernelspec": {
   "display_name": "Python 3",
   "language": "python",
   "name": "python3"
  },
  "language_info": {
   "codemirror_mode": {
    "name": "ipython",
    "version": 3
   },
   "file_extension": ".py",
   "mimetype": "text/x-python",
   "name": "python",
   "nbconvert_exporter": "python",
   "pygments_lexer": "ipython3",
   "version": "3.12.4"
  }
 },
 "nbformat": 4,
 "nbformat_minor": 5
}
